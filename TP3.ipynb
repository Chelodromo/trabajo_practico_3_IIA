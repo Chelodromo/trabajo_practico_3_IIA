{
 "cells": [
  {
   "cell_type": "markdown",
   "id": "6be6c65a-82d8-40d6-9d5b-a4651e52f12c",
   "metadata": {
    "collapsed": false,
    "jupyter": {
     "outputs_hidden": false
    }
   },
   "source": [
    "# TP3: Detector de SPAM\n",
    "\n",
    "**Integrantes:**\n",
    "- Carreras, Sebastian\n",
    "- Fajardo, Lucas\n",
    "- Más Valdecantos, Marcelo A.\n",
    "\n",
    "---\n",
    "Uno de los problemas más comunes en la clasificación es la detección de correos electrónicos SPAM. Uno de los primeros modelos utilizados para abordar este problema fue el clasificador de Bayes ingenuo. La detección de SPAM es un problema persistente en el mundo digital, ya que los spammers continúan adaptando sus estrategias para eludir los filtros de correo no deseado. Además del clasificador de Bayes ingenuo, se han desarrollado y utilizado una variedad de técnicas más avanzadas en la detección de SPAM, que incluyen algoritmos de aprendizaje automático, redes neuronales y métodos basados en reglas.\n",
    "\n",
    "En este trabajo práctico, utilizaremos un conjunto de datos que consta de 4601 observaciones de correos electrónicos, de los cuales 2788 son correos legítimos y 1813 son correos SPAM. Dado que el contenido de los correos electrónicos es un tipo de dato no estructurado, es necesario procesarlo de alguna manera. Para este conjunto de datos, ya se ha aplicado un procesamiento típico en el Procesamiento del Lenguaje Natural (NLP), que consiste en contar la frecuencia de palabras observadas en los correos.\n",
    "\n",
    "El procesamiento de lenguaje natural (NLP) desempeña un papel fundamental en la detección de SPAM, ya que permite analizar el contenido de los correos electrónicos y extraer características relevantes para la clasificación. Además de contar la frecuencia de palabras, se pueden utilizar técnicas más sofisticadas, como la extracción de características semánticas y el análisis de sentimientos, para mejorar la precisión de los modelos de detección de SPAM.\n",
    "\n",
    "En este proceso, se cuenta la cantidad de ocurrencias de cada palabra en los diferentes correos.\n",
    "\n",
    "![spam counter](./spam.png)\n",
    "\n",
    "Con el fin de preservar la privacidad de los mensajes, la frecuencia de palabras se encuentra normalizada. El conjunto de datos está compuesto por 54 columnas de atributos que se denominan:\n",
    "\n",
    "- `word_freq_XXXX`: Donde `XXXX` es la palabra o símbolo. Los valores son enteros que van de 0 a 20k.\n",
    "\n",
    "Además, hay una columna adicional llamada `spam`, que es 1 si el correo es SPAM o 0 si no lo es.\n",
    "\n",
    "Los clasificadores de Bayes ingenuos fueron los primeros filtros utilizados por las aplicaciones de correo electrónico, basados en este principio de palabras. La idea es que, partiendo de un dato a priori sobre la probabilidad de que un correo sea SPAM o no, ciertas palabras nos indicarán que la probabilidad a posteriori, dadas esas palabras, es más probable que el correo sea SPAM o no."
   ]
  },
  {
   "cell_type": "markdown",
   "id": "a7f9727d-6dbe-469c-a8d3-d02e2dfff05f",
   "metadata": {
    "collapsed": false,
    "jupyter": {
     "outputs_hidden": false
    }
   },
   "source": [
    "---\n",
    "#### 1.¿Cuáles son las 10 palabras más encontradas en correos con SPAM y en correos No SPAM? ¿Hay palabras en común? ¿Algunas llaman la atención?\n"
   ]
  },
  {
   "cell_type": "code",
   "execution_count": 71,
   "id": "d37278c3-51cb-4aef-9501-2c384fe5f8c4",
   "metadata": {},
   "outputs": [],
   "source": [
    "import pandas as pd\n",
    "import numpy as np\n",
    "import matplotlib.pyplot as plt\n",
    "import seaborn as sns\n",
    "\n",
    "from sklearn.model_selection import train_test_split\n",
    "from sklearn.preprocessing import MinMaxScaler\n",
    "\n",
    "# Scikit-learn nos ofrece una variedad ampliada de modelos Naive Bayes, para este problema usamos MultinomialNB que es pensado para este tipo de problemas\n",
    "from sklearn.naive_bayes import MultinomialNB   \n",
    "\n",
    "from sklearn.linear_model import LogisticRegression\n",
    "\n",
    "from sklearn.metrics import accuracy_score, precision_score, recall_score, confusion_matrix, ConfusionMatrixDisplay"
   ]
  },
  {
   "cell_type": "code",
   "execution_count": 73,
   "id": "4b61aac5-ce7c-4ce5-8263-3e50fd68a36a",
   "metadata": {},
   "outputs": [],
   "source": [
    "dataset = pd.read_csv(\"dataset/spambase.csv\") # cargando los datos desde un CSV\n",
    "dataset.head(100)\n",
    "dataset.rename(columns={\"word_freq_make\\r\": \"word_freq_make\"}, inplace=True)"
   ]
  },
  {
   "cell_type": "code",
   "execution_count": 77,
   "id": "68d922de-3281-48f5-abb4-d208fc39c448",
   "metadata": {},
   "outputs": [],
   "source": [
    "#Obtenemos los palabras mas usadas. \n",
    "column_sum = dataset.groupby(by=\"spam\", as_index=False).sum()"
   ]
  },
  {
   "cell_type": "code",
   "execution_count": 79,
   "id": "1f78f673-0a64-49b9-9b5c-f743995f41bd",
   "metadata": {},
   "outputs": [],
   "source": [
    "#  Filtramos los datos para solo los correos etiquetados como spam\n",
    "spam_word_counts = column_sum[column_sum['spam'] == 1]"
   ]
  },
  {
   "cell_type": "code",
   "execution_count": 81,
   "id": "08f03a0f-739f-4e04-97ea-fc3ece6e636b",
   "metadata": {},
   "outputs": [],
   "source": [
    "# Eliminamos la columna Spam \n",
    "spam_word_counts = spam_word_counts.drop(columns=[\"spam\"])"
   ]
  },
  {
   "cell_type": "code",
   "execution_count": 93,
   "id": "ad066644-c269-492b-8f00-223a23cc330a",
   "metadata": {},
   "outputs": [
    {
     "name": "stdout",
     "output_type": "stream",
     "text": [
      "                    numero_de_palabras\n",
      "word_freq_you                  4105599\n",
      "word_freq_your                 2502597\n",
      "word_freq_will                  997100\n",
      "word_freq_free                  939790\n",
      "word_freq_our                   931799\n",
      "char_freq_!                     931352\n",
      "word_freq_all                   732080\n",
      "word_freq_mail                  635470\n",
      "word_freq_email                 578759\n",
      "word_freq_business              521250\n"
     ]
    }
   ],
   "source": [
    "# Transponemos el DataFrame para que las palabras sean los índices\n",
    "transposed_spam_word_counts = spam_word_counts.T\n",
    "\n",
    "# Renombramos la columna resultante, en caso de que no tenga un nombre adecuado\n",
    "transposed_spam_word_counts.columns = ['numero_de_palabras']\n",
    "\n",
    "# Ordenamos las palabras por su frecuencia en orden descendente\n",
    "most_frequent_words = transposed_spam_word_counts.sort_values(by='numero_de_palabras', ascending=False)\n",
    "\n",
    "# Mostramos las n palabras más frecuentes\n",
    "n = 10\n",
    "print(most_frequent_words.head(n))\n"
   ]
  },
  {
   "cell_type": "code",
   "execution_count": 95,
   "id": "e75526b9-49fd-4b1a-b579-7072a335b482",
   "metadata": {},
   "outputs": [],
   "source": [
    "# Hacemos lo mismo para las mails que no son spam\n",
    "no_spam_word_counts = column_sum[column_sum['spam'] == 0]"
   ]
  },
  {
   "cell_type": "code",
   "execution_count": 97,
   "id": "e71888a6-16ca-428e-ba5f-d6d96e79cf49",
   "metadata": {},
   "outputs": [],
   "source": [
    "# Eliminamos la columna Spam \n",
    "no_spam_word_counts = no_spam_word_counts.drop(columns=[\"spam\"])"
   ]
  },
  {
   "cell_type": "code",
   "execution_count": 129,
   "id": "0633c38b-f39d-4d89-8493-90030ed38130",
   "metadata": {},
   "outputs": [
    {
     "name": "stdout",
     "output_type": "stream",
     "text": [
      "                   numero_de_palabras\n",
      "word_freq_you                 3541702\n",
      "word_freq_george              3527559\n",
      "word_freq_hp                  2496576\n",
      "word_freq_will                1495268\n",
      "word_freq_your                1223098\n",
      "word_freq_hpl                 1204398\n",
      "word_freq_re                  1159138\n",
      "word_freq_edu                  800669\n",
      "word_freq_address              681569\n",
      "word_freq_meeting              604460\n"
     ]
    }
   ],
   "source": [
    "# Transponemos el DataFrame para que las palabras sean los índices\n",
    "transposed_no_spam_word_counts = no_spam_word_counts.T\n",
    "\n",
    "# Renombramos la columna resultante, en caso de que no tenga un nombre adecuado\n",
    "transposed_no_spam_word_counts.columns = ['numero_de_palabras']\n",
    "\n",
    "# Ordenamos las palabras por su frecuencia en orden descendente\n",
    "no_spam_most_frequent_words = transposed_no_spam_word_counts.sort_values(by='numero_de_palabras', ascending=False)\n",
    "\n",
    "# Mostramos las n palabras más frecuentes en mails que no son Spam \n",
    "n = 10\n",
    "print(no_spam_most_frequent_words.head(n))"
   ]
  },
  {
   "cell_type": "markdown",
   "id": "0a27d796-e623-459c-9c58-7208a0babc20",
   "metadata": {
    "collapsed": false,
    "jupyter": {
     "outputs_hidden": false
    }
   },
   "source": [
    "---\n",
    "\n",
    "#### Respuesta 1\n",
    "##### ¿Hay palabras en común?\n",
    "- Podemos Observar que la palabra \"you\" es la que más se repite en el caso de Spam y No Spam, las otras palabras que más se repiten en ambos casos son \"will\" y \"your\".\n",
    "##### ¿Algunas llaman la atención?\n",
    "- La palabra que llama la atención, o más bien el signo, por su frecuencia de aparición en el correo de spam, es el signo de admiración “!”.\n",
    "\n"
   ]
  },
  {
   "cell_type": "markdown",
   "id": "6b5549e9-5bce-42cc-b2c1-3d68b12493d2",
   "metadata": {
    "collapsed": false,
    "jupyter": {
     "outputs_hidden": false
    }
   },
   "source": [
    "---\n",
    "#### 2. Separe el conjunto de datos en un conjunto de entrenamiento y un conjunto de prueba (70% y 30% respectivamente)."
   ]
  },
  {
   "cell_type": "code",
   "execution_count": 132,
   "id": "62506477-a017-4661-9686-8557226e77cd",
   "metadata": {},
   "outputs": [],
   "source": [
    "# Obtenemos los atributos y target\n",
    "X = (dataset.drop(columns=\"spam\") * 100).astype(int)\n",
    "#X = dataset2.drop(columns=\"spam\")\n",
    "y = dataset[\"spam\"]"
   ]
  },
  {
   "cell_type": "code",
   "execution_count": 134,
   "id": "e5247ba2-b515-419b-bc11-1da3391ecd97",
   "metadata": {},
   "outputs": [],
   "source": [
    "# Separamos el conjunto de datos como fue indicado.\n",
    "X_train, X_test, y_train, y_test= train_test_split(X, y, test_size = 0.3)"
   ]
  },
  {
   "cell_type": "markdown",
   "id": "cdc6f578-9e49-4c88-a00d-ff7a0120fbba",
   "metadata": {
    "collapsed": false,
    "jupyter": {
     "outputs_hidden": false
    }
   },
   "source": [
    "---\n",
    "#### 3. Utilizando un clasificador de Bayes ingenuo, entrene con el conjunto de entrenamiento."
   ]
  },
  {
   "cell_type": "code",
   "execution_count": null,
   "id": "6a97eaf0-b15c-47fb-b671-35b1db09462b",
   "metadata": {},
   "outputs": [],
   "source": [
    "#Escalamos los datos\n",
    "scaler = MinMaxScaler()\n",
    "X_train_scaled = scaler.fit_transform(X_train)\n",
    "X_test_scaled = scaler.transform(X_test)\n",
    "\n",
    "# Lo transformamos en DataFrames\n",
    "X_train_scaled = pd.DataFrame(X_train_scaled, columns=X.columns)\n",
    "X_test_scaled = pd.DataFrame(X_test_scaled, columns=X.columns)"
   ]
  },
  {
   "cell_type": "code",
   "execution_count": null,
   "id": "27ec3496-1dbc-4e64-812e-c9f8b50fd75a",
   "metadata": {},
   "outputs": [],
   "source": []
  }
 ],
 "metadata": {
  "kernelspec": {
   "display_name": "Python 3 (ipykernel)",
   "language": "python",
   "name": "python3"
  },
  "language_info": {
   "codemirror_mode": {
    "name": "ipython",
    "version": 3
   },
   "file_extension": ".py",
   "mimetype": "text/x-python",
   "name": "python",
   "nbconvert_exporter": "python",
   "pygments_lexer": "ipython3",
   "version": "3.12.4"
  }
 },
 "nbformat": 4,
 "nbformat_minor": 5
}
